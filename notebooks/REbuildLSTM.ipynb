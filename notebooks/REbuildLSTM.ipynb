{
 "nbformat": 4,
 "nbformat_minor": 0,
 "metadata": {
  "colab": {
   "provenance": [],
   "gpuType": "T4"
  },
  "kernelspec": {
   "name": "python3",
   "display_name": "Python 3"
  },
  "language_info": {
   "name": "python"
  },
  "accelerator": "GPU"
 },
 "cells": [
  {
   "cell_type": "code",
   "execution_count": null,
   "metadata": {
    "colab": {
     "base_uri": "https://localhost:8080/"
    },
    "id": "f6eDw1AuRYRM",
    "outputId": "c18b45e6-dc77-4533-da7a-8692fe06faae"
   },
   "outputs": [
    {
     "output_type": "stream",
     "name": "stdout",
     "text": [
      "Mounted at /content/drive\n"
     ]
    }
   ],
   "source": [
    "# from google.colab import drive\n",
    "# drive.mount('/content/drive')"
   ]
  },
  {
   "cell_type": "markdown",
   "source": [
    "Tải thư viện và import"
   ],
   "metadata": {
    "id": "fqQ-L68jjovz"
   }
  },
  {
   "cell_type": "code",
   "source": [
    "# !pip -q install torchmetrics==1.4.0\n",
    "import numpy as np\n",
    "import torch\n",
    "from torch import nn\n",
    "from torch.utils.data import Dataset, DataLoader\n",
    "from torchmetrics.regression import MeanAbsoluteError\n",
    "from pathlib import Path"
   ],
   "metadata": {
    "id": "j5MqsSJ8UnEJ",
    "colab": {
     "base_uri": "https://localhost:8080/"
    },
    "outputId": "72a3471b-a6f0-4891-9b02-7ae122a9dc23"
   },
   "execution_count": null,
   "outputs": [
    {
     "output_type": "stream",
     "name": "stdout",
     "text": [
      "\u001B[?25l   \u001B[90m━━━━━━━━━━━━━━━━━━━━━━━━━━━━━━━━━━━━━━━━\u001B[0m \u001B[32m0.0/868.8 kB\u001B[0m \u001B[31m?\u001B[0m eta \u001B[36m-:--:--\u001B[0m\r\u001B[2K   \u001B[91m━━━━━━━━━━━━━━━━━━━━━━━━━━━━━━━━━━━━━━━\u001B[0m\u001B[91m╸\u001B[0m \u001B[32m860.2/868.8 kB\u001B[0m \u001B[31m36.7 MB/s\u001B[0m eta \u001B[36m0:00:01\u001B[0m\r\u001B[2K   \u001B[90m━━━━━━━━━━━━━━━━━━━━━━━━━━━━━━━━━━━━━━━━\u001B[0m \u001B[32m868.8/868.8 kB\u001B[0m \u001B[31m23.4 MB/s\u001B[0m eta \u001B[36m0:00:00\u001B[0m\n",
      "\u001B[?25h"
     ]
    }
   ]
  },
  {
   "cell_type": "markdown",
   "source": [
    "- ROOT: thư mục gốc của dự án trên Drive.\n",
    "\n",
    "- DATA_NPZ: file dữ liệu dạng .npz (nhiều mảng NumPy nén) sẽ được load.\n",
    "\n",
    "- CKPT_DIR: thư mục để lưu checkpoint (trọng số mạng).\n",
    "\n",
    "- CKPT_PATH: file cụ thể để lưu “model tốt nhất” (best checkpoint).\n",
    "\n",
    "\n",
    "\n",
    "- BATCH_SIZE: kích thước batch (số chuỗi để huấn luyện) khi huấn luyện/đánh giá.\n",
    "\n",
    "- EPOCHS: số vòng (epoch) tối đa để huấn luyện.\n",
    "\n",
    "- PATIENCE: số epoch cho phép “không cải thiện” trước khi dừng sớm (early stopping)."
   ],
   "metadata": {
    "id": "P-GI4lDiCVNK"
   }
  },
  {
   "cell_type": "code",
   "source": [
    "# ========== CẤU HÌNH ==========\n",
    "ROOT = Path(\"/content/drive/MyDrive/hurricane-trajectory\")\n",
    "DATA_NPZ = ROOT / \"data/processed_data.npz\"\n",
    "CKPT_DIR = ROOT / \"models\"\n",
    "CKPT_PATH = CKPT_DIR / \"best_lstm_manual.pt\"\n",
    "\n",
    "BATCH_SIZE = 64\n",
    "EPOCHS = 40\n",
    "PATIENCE = 10  # early stopping"
   ],
   "metadata": {
    "id": "j1_lv_rkB_zy"
   },
   "execution_count": null,
   "outputs": []
  },
  {
   "cell_type": "markdown",
   "source": [
    "Class StormSeqDataset thừa kế Dataset:\n",
    "+ Hàm nhận đầu vào ép kiểu và kiểm tra shape trước queeze chuyển dữ liệu thành tensor kiểu float32, chỉnh shape của dataset train (bỏ chiều thứ 2 nếu kích thước là 1).\n",
    "+ Hàm trả về số phần tử trong mẫu (số dòng).\n",
    "+ Hàm truy cập gọi từng mẫu thông qua i cho DataLoader tạo tensor batch để train."
   ],
   "metadata": {
    "id": "3i-7Px5wIhRa"
   }
  },
  {
   "cell_type": "code",
   "source": [
    "class StormSeqDataset(Dataset):\n",
    "    def __init__(self, X, y):\n",
    "        X = np.asarray(X)\n",
    "        y = np.asarray(y)\n",
    "        self.X = torch.tensor(X, dtype=torch.float32)\n",
    "        if y.ndim >= 3 and y.shape[1] == 1:\n",
    "            y = np.squeeze(y, axis=1)\n",
    "        self.y = torch.tensor(y, dtype=torch.float32)\n",
    "\n",
    "    def __len__(self):\n",
    "        return len(self.X)\n",
    "\n",
    "    def __getitem__(self, i):\n",
    "        return self.X[i], self.y[i]\n"
   ],
   "metadata": {
    "id": "pf3KiXtPb9-Q"
   },
   "execution_count": null,
   "outputs": []
  },
  {
   "cell_type": "markdown",
   "source": [
    "\n",
    "    LSTM công thức:\n",
    "      + Forget gate: f_t = σ(U_f x_t + W_f h_{t-1} + b_f)\n",
    "\n",
    "      + Input gate:i_t = σ(U_i x_t + W_i h_{t-1} + b_i)\n",
    "\n",
    "      + Output gate:o_t = σ(U_o x_t + W_o h_{t-1} + b_o)\n",
    "\n",
    "      + Internal sate: g_t = tanh(U_g x_t + W_g h_{t-1} + b_g)\n",
    "\n",
    "      c_t = f_t ⊙ c_{t-1} + i_t ⊙ g_t\n",
    "\n",
    "      h_t = o_t ⊙ tanh(c_t)\n",
    "  - Hàm khởi tạo các tham số cho công thức và xây dựng các công thức tính cho mô hình LSTM: f_t, i_t, o_t, g_t,..."
   ],
   "metadata": {
    "id": "vI5VyTp7I0N6"
   }
  },
  {
   "cell_type": "code",
   "source": [
    "class _ManualLSTMCell(nn.Module):\n",
    "    def __init__(self, in_dim: int, hidden: int):\n",
    "        super().__init__()\n",
    "        self.hidden = hidden\n",
    "        # U*: input->hidden (có bias)\n",
    "        self.Uf = nn.Linear(in_dim, hidden, bias=True)\n",
    "        self.Ui = nn.Linear(in_dim, hidden, bias=True)\n",
    "        self.Uo = nn.Linear(in_dim, hidden, bias=True)\n",
    "        self.Ug = nn.Linear(in_dim, hidden, bias=True)\n",
    "        # W*: hidden->hidden (không bias)\n",
    "        self.Wf = nn.Linear(hidden, hidden, bias=False)\n",
    "        self.Wi = nn.Linear(hidden, hidden, bias=False)\n",
    "        self.Wo = nn.Linear(hidden, hidden, bias=False)\n",
    "        self.Wg = nn.Linear(hidden, hidden, bias=False)\n",
    "\n",
    "        # Khởi tạo\n",
    "        for lin in [self.Uf, self.Ui, self.Uo, self.Ug]:\n",
    "            nn.init.xavier_uniform_(lin.weight)\n",
    "            nn.init.zeros_(lin.bias)\n",
    "        for lin in [self.Wf, self.Wi, self.Wo, self.Wg]:\n",
    "            nn.init.orthogonal_(lin.weight)\n",
    "        # Forget bias dương để khuyến khích \"nhớ\" lúc đầu\n",
    "        with torch.no_grad():\n",
    "            self.Uf.bias.fill_(1.0)\n",
    "\n",
    "    def forward(self, x_t, h_prev, c_prev):\n",
    "        f_t = torch.sigmoid(self.Uf(x_t) + self.Wf(h_prev))\n",
    "        i_t = torch.sigmoid(self.Ui(x_t) + self.Wi(h_prev))\n",
    "        o_t = torch.sigmoid(self.Uo(x_t) + self.Wo(h_prev))\n",
    "        g_t = torch.tanh(   self.Ug(x_t) + self.Wg(h_prev))\n",
    "        c_t = f_t * c_prev + i_t * g_t\n",
    "        h_t = o_t * torch.tanh(c_t)\n",
    "        return h_t, c_t\n"
   ],
   "metadata": {
    "id": "OgtYrTJLcAIv"
   },
   "execution_count": null,
   "outputs": []
  },
  {
   "cell_type": "markdown",
   "source": [
    "1. Hàm constructor khởi tạo lstm và tính output đầu ra với tham số:\n",
    "-in_dim: số đặc trưng ở mỗi bước thời gian đầu vào (số lượng features).\n",
    "\n",
    "-hidden: kích thước tầng ẩn của LSTM (số neural ở mỗi layer).\n",
    "\n",
    "-num_layers: số lớp LSTM chồng lên nhau.\n",
    "\n",
    "-out_dim: số chiều đầu ra (ví dụ 2 toạ độ- kinh độ vĩ độ).\n",
    "\n",
    "-dropout:(một phần kết nối/nút bị tắt ngẫu nhiên) regularization - tỉ lệ dropout giữa các lớp LSTM để chống overfitting.\n",
    "\n",
    "- Tạo num_layers cell; layer 0 nhận in_dim, các layer sau nhận hidden.\n",
    "\n",
    "\n",
    "- Truyền inp qua từng layer; với layer không cuối, áp dropout lên h_l trước khi đưa xuống layer tiếp theo.\n",
    "\n",
    "- Sau khi đi hết thời gian, lấy h của layer cuối ở timestep cuối → qua Linear head để ra vector dự đoán [B, out_dim].\n",
    "\n",
    "2. Hàm forward:\n",
    "- Input vào forward: batch chuỗi x có shape [B, T, F] (F = in_dim).\n",
    "- Lấy thiết bị mà x đang nằm trên: CPU hay GPU\n",
    "- Lấy kiểu dữ liệu của x\n",
    "\n",
    "- Mỗi layer trong self.cells là 1 LSTM tự code:\n",
    "\n",
    "-Mỗi epoch forward: với từng t từ 0...T−1:\n",
    "\n",
    "-Tại mỗi t, truyền x/tín hiệu qua từng layer; giữa các layer (trừ layer cuối) áp self.do_mid (dropout).\n",
    "\n",
    "- Sau khi đi hết T bước, lấy hidden của layer cuối ở timestep cuối (shape [B, hidden]), đưa qua self.head để ra [B, out_dim]."
   ],
   "metadata": {
    "id": "6_xAgXmtfXjT"
   }
  },
  {
   "cell_type": "code",
   "source": [
    "class LSTMFromScratchForecaster(nn.Module):\n",
    "    \"\"\"\n",
    "    Stacked LSTM từ _ManualLSTMCell. Lấy h ở timestep cuối -> Linear head ra out_dim.\n",
    "    \"\"\"\n",
    "    def __init__(self, in_dim, hidden=20, num_layers=2, out_dim=2, dropout=0.2):\n",
    "        super().__init__()\n",
    "        self.hidden = hidden\n",
    "        self.num_layers = num_layers\n",
    "        self.dropout_p = dropout if num_layers > 1 else 0.0\n",
    "\n",
    "        self.cells = nn.ModuleList([\n",
    "            _ManualLSTMCell(in_dim if l == 0 else hidden, hidden)\n",
    "            for l in range(num_layers)\n",
    "        ])\n",
    "        self.dropout = nn.Dropout(self.dropout_p) if self.dropout_p > 0 else nn.Identity()\n",
    "        self.head = nn.Linear(hidden, out_dim)\n",
    "\n",
    "        nn.init.xavier_uniform_(self.head.weight)\n",
    "        nn.init.zeros_(self.head.bias)\n",
    "\n",
    "    def forward(self, x):\n",
    "        # x: [B, T, F]\n",
    "        B, T, _ = x.size()\n",
    "        device = x.device\n",
    "        dtype = x.dtype\n",
    "\n",
    "        hs = [torch.zeros(B, self.hidden, device=device, dtype=dtype) for _ in range(self.num_layers)]\n",
    "        cs = [torch.zeros(B, self.hidden, device=device, dtype=dtype) for _ in range(self.num_layers)]\n",
    "\n",
    "        for t in range(T):\n",
    "            inp = x[:, t, :]\n",
    "            for l, cell in enumerate(self.cells):\n",
    "                h_l, c_l = cell(inp, hs[l], cs[l])\n",
    "                hs[l], cs[l] = h_l, c_l\n",
    "                # dropout giữa các layer (không áp cho layer cuối)\n",
    "                inp = self.dropout(h_l) if (l < self.num_layers - 1) else h_l\n",
    "\n",
    "        last_h = hs[-1]          # [B, H] tại timestep cuối\n",
    "        return self.head(last_h) # [B, out_dim]\n"
   ],
   "metadata": {
    "id": "GP4-ZR53cCmo"
   },
   "execution_count": null,
   "outputs": []
  },
  {
   "cell_type": "markdown",
   "source": [
    "Hàm train và evaluation:\n",
    "\n",
    "loader: DataLoader cung cấp các batch (xb, yb).\n",
    "\n",
    "model: mô hình cần chạy.\n",
    "\n",
    "crit: hàm loss (nn.MSELoss()).\n",
    "\n",
    "opt: optimizer (chỉ dùng khi train).\n",
    "\n",
    "device: CPU/GPU để đưa tensor lên.\n",
    "\n",
    "train_mode: True để huấn luyện, False để đánh giá.\n",
    "\n",
    "mae_metric: bộ đo min absolute erro (từ torchmetrics).\n",
    "- Set train_mode hoặc evaluation (bỏ dropout), autograd(đạo hàm).\n",
    "- Khởi tạo total_loss và n_sample để tính average epoch loss chuẩn xác hơn\n",
    "- Đưa dữ liệu xb,yb để dự đoán, tính loss(MSE); xoá bỏ gradient cũ nếu train, tính gradient mới .backpropagation, giới hạn độ lớn của gradient, update, cập nhật MAE cho batch hiện tại.\n"
   ],
   "metadata": {
    "id": "M-LGI3EXo8Wz"
   }
  },
  {
   "cell_type": "code",
   "source": [
    "@torch.no_grad()\n",
    "def _eval_epoch(loader, model, crit, device, mae_metric):\n",
    "    model.eval()\n",
    "    total_loss, n_samples = 0.0, 0\n",
    "    mae_metric.reset()\n",
    "    for xb, yb in loader:\n",
    "        xb, yb = xb.to(device), yb.to(device)\n",
    "        pred = model(xb)\n",
    "        loss = crit(pred, yb)\n",
    "        mae_metric.update(pred, yb)\n",
    "        total_loss += loss.item() * xb.size(0)\n",
    "        n_samples += xb.size(0)\n",
    "    return total_loss / max(n_samples, 1), mae_metric.compute()\n",
    "\n",
    "def _train_epoch(loader, model, crit, opt, device, mae_metric):\n",
    "    model.train()\n",
    "    total_loss, n_samples = 0.0, 0\n",
    "    mae_metric.reset()\n",
    "    for xb, yb in loader:\n",
    "        xb, yb = xb.to(device), yb.to(device)\n",
    "        pred = model(xb)\n",
    "        loss = crit(pred, yb)\n",
    "\n",
    "        opt.zero_grad(set_to_none=True)\n",
    "        loss.backward()\n",
    "        nn.utils.clip_grad_norm_(model.parameters(), 1.0)\n",
    "        opt.step()\n",
    "\n",
    "        mae_metric.update(pred, yb)\n",
    "        total_loss += loss.item() * xb.size(0)\n",
    "        n_samples += xb.size(0)\n",
    "    return total_loss / max(n_samples, 1), mae_metric.compute()\n",
    "\n",
    "def run_epoch(loader, model, crit, opt, device, train_mode, mae_metric):\n",
    "    if train_mode:\n",
    "        return _train_epoch(loader, model, crit, opt, device, mae_metric)\n",
    "    else:\n",
    "        return _eval_epoch(loader, model, crit, device, mae_metric)\n"
   ],
   "metadata": {
    "id": "X9pKRAmgcDmH"
   },
   "execution_count": null,
   "outputs": []
  },
  {
   "cell_type": "markdown",
   "source": [
    "Hàm main:\n",
    "1. Load dữ liệu từ .npz; tách tập train, validation, test; lấy danh sách đặc trưng đầu vào(fearture).\n",
    "\n",
    "2.Xác định chiều ra của mô hình\n",
    "\n",
    "3.Tạo DataLoader để cho train, validation, test dùng hàm StormSeqDataset() ở trên cùng BATCH_SIZE; xáo trộn dữ liệu mỗi epoch khi train.\n",
    "4. Thiết bị sử dụng\n",
    "\n",
    "5. Khởi tạo mô hình, tính các thông số:\n",
    "- Tính MSE.\n",
    "- Optimize với learning rate(LR) nếu cần, giảm đi một nửa LR nếu sau 3 epoch liên tiếp không giảm va_loss.\n",
    "- Tính MAE.\n",
    "6. Tạo thư mục checkpoint lưu best loss xem khi nào model chạy tốt nhất và số epoch không cải thiện.\n",
    "7. Lưu “model tốt nhất” & early stopping:\n",
    "- Nếu va_loss nhỏ hơn best_loss, cập nhật best_loss, reset bad_epochs\n",
    "- Lưu checkpoint: trọng số mô hình, meta về cột/đặc trưng\n",
    "- Nếu va_loss lớn hơn best_loss thì tăng bad_epochs đến PATIENCE thì dừng\n",
    "8. Đánh giá trên tập Test\n",
    "- Load best model\n",
    "- Nạp trọng số tốt nhất  vào model\n",
    "chạy trên tập Test để lấy MSE, MAE."
   ],
   "metadata": {
    "id": "VkNYc5-4JYy6"
   }
  },
  {
   "cell_type": "code",
   "source": [
    "def main():\n",
    "    if not DATA_NPZ.exists():\n",
    "        raise FileNotFoundError(f\"Không tìm thấy file dữ liệu: {DATA_NPZ}\")\n",
    "\n",
    "    # 1) Load dữ liệu\n",
    "    npz = np.load(DATA_NPZ, allow_pickle=True)\n",
    "    X_train, y_train = npz[\"X_train\"], npz[\"y_train\"]\n",
    "    X_valid, y_valid = npz[\"X_valid\"], npz[\"y_valid\"]\n",
    "    X_test,  y_test  = npz[\"X_test\"],  npz[\"y_test\"]\n",
    "    INPUT_FEATURES = list(npz[\"INPUT_FEATURES\"]) if \"INPUT_FEATURES\" in npz.files else None\n",
    "    TARGET_FEATURES = list(npz[\"TARGET_FEATURES\"]) if \"TARGET_FEATURES\" in npz.files else None\n",
    "\n",
    "    # 2) out_dim\n",
    "    out_dim = len(TARGET_FEATURES) if TARGET_FEATURES else (y_train.shape[-1] if y_train.ndim >= 2 else 1)\n",
    "    in_dim = X_train.shape[2]\n",
    "\n",
    "    # 3) DataLoader\n",
    "    train_loader = DataLoader(StormSeqDataset(X_train, y_train), batch_size=BATCH_SIZE, shuffle=True)\n",
    "    valid_loader = DataLoader(StormSeqDataset(X_valid, y_valid), batch_size=BATCH_SIZE, shuffle=False)\n",
    "    test_loader  = DataLoader(StormSeqDataset(X_test,  y_test),  batch_size=BATCH_SIZE, shuffle=False)\n",
    "\n",
    "    # 4) Thiết bị\n",
    "    device = torch.device(\"cuda\" if torch.cuda.is_available() else \"cpu\")\n",
    "    print(f\"Sử dụng thiết bị: {device}\")\n",
    "\n",
    "    # 5) Model + tối ưu + metric\n",
    "    model = LSTMFromScratchForecaster(in_dim=in_dim, hidden=20, num_layers=2, out_dim=out_dim, dropout=0.2).to(device)\n",
    "    crit = nn.MSELoss()\n",
    "    opt = torch.optim.AdamW(model.parameters(), lr=1e-3, weight_decay=1e-4)  # <= inline\n",
    "    sched = torch.optim.lr_scheduler.ReduceLROnPlateau(opt, mode='min', factor=0.5, patience=3)  # <= inline\n",
    "    mae_metric = MeanAbsoluteError().to(device)\n",
    "\n",
    "    # 6) Checkpoint dir\n",
    "    CKPT_DIR.mkdir(parents=True, exist_ok=True)\n",
    "\n",
    "    # 7) Train + Early stopping\n",
    "    best_loss, bad_epochs = float(\"inf\"), 0\n",
    "    print(\"\\nBắt đầu huấn luyện...\")\n",
    "    for ep in range(1, EPOCHS + 1):\n",
    "        tr_loss, _ = run_epoch(train_loader, model, crit, opt, device, True, mae_metric)\n",
    "        va_loss, va_mae = run_epoch(valid_loader, model, crit, None, device, False, mae_metric)\n",
    "\n",
    "        sched.step(va_loss)\n",
    "\n",
    "        print(f\"Epoch {ep:02d} | Train Loss {tr_loss:.6f} | Valid Loss {va_loss:.6f} | Valid MAE {va_mae:.6f}\")\n",
    "\n",
    "        if va_loss < best_loss - 1e-12:\n",
    "            best_loss, bad_epochs = va_loss, 0\n",
    "            torch.save(\n",
    "                {\n",
    "                    \"model_state_dict\": model.state_dict(),\n",
    "                    \"input_features\": INPUT_FEATURES,\n",
    "                    \"target_features\": TARGET_FEATURES,\n",
    "                    \"in_dim\": in_dim,\n",
    "                    \"out_dim\": out_dim,\n",
    "                    \"config\": {\"hidden\": 20, \"num_layers\": 2, \"dropout\": 0.2},\n",
    "                },\n",
    "                CKPT_PATH,\n",
    "            )\n",
    "            print(\" -> Đã lưu model tốt nhất.\")\n",
    "        else:\n",
    "            bad_epochs += 1\n",
    "            if bad_epochs >= PATIENCE:\n",
    "                print(\"Early stopping do không cải thiện trên tập validation.\")\n",
    "                break\n",
    "\n",
    "    # 8) Test\n",
    "    print(\"\\nĐánh giá trên tập test...\")\n",
    "    checkpoint = torch.load(CKPT_PATH, map_location=device)\n",
    "    model.load_state_dict(checkpoint[\"model_state_dict\"])\n",
    "    test_loss, test_mae = run_epoch(test_loader, model, crit, None, device, False, mae_metric)\n",
    "    print(f\"[KẾT QUẢ TEST] MSE: {test_loss:.6f} | MAE: {test_mae:.6f}\")\n",
    "\n",
    "# chạy\n",
    "main()\n"
   ],
   "metadata": {
    "colab": {
     "base_uri": "https://localhost:8080/"
    },
    "id": "4RLNWyoecFBX",
    "outputId": "57aa3cf8-a587-4304-8eca-14d31eb6bba8"
   },
   "execution_count": null,
   "outputs": [
    {
     "output_type": "stream",
     "name": "stdout",
     "text": [
      "Sử dụng thiết bị: cuda\n",
      "\n",
      "Bắt đầu huấn luyện...\n",
      "Epoch 01 | Train Loss 0.014340 | Valid Loss 0.008068 | Valid MAE 0.060328\n",
      " -> Đã lưu model tốt nhất.\n",
      "Epoch 02 | Train Loss 0.005265 | Valid Loss 0.003355 | Valid MAE 0.041340\n",
      " -> Đã lưu model tốt nhất.\n",
      "Epoch 03 | Train Loss 0.002959 | Valid Loss 0.002648 | Valid MAE 0.035959\n",
      " -> Đã lưu model tốt nhất.\n",
      "Epoch 04 | Train Loss 0.002507 | Valid Loss 0.002293 | Valid MAE 0.033579\n",
      " -> Đã lưu model tốt nhất.\n",
      "Epoch 05 | Train Loss 0.002261 | Valid Loss 0.002136 | Valid MAE 0.032391\n",
      " -> Đã lưu model tốt nhất.\n",
      "Epoch 06 | Train Loss 0.002053 | Valid Loss 0.001887 | Valid MAE 0.030350\n",
      " -> Đã lưu model tốt nhất.\n",
      "Epoch 07 | Train Loss 0.001892 | Valid Loss 0.001714 | Valid MAE 0.028881\n",
      " -> Đã lưu model tốt nhất.\n",
      "Epoch 08 | Train Loss 0.001718 | Valid Loss 0.001581 | Valid MAE 0.027805\n",
      " -> Đã lưu model tốt nhất.\n",
      "Epoch 09 | Train Loss 0.001587 | Valid Loss 0.001567 | Valid MAE 0.028602\n",
      " -> Đã lưu model tốt nhất.\n",
      "Epoch 10 | Train Loss 0.001502 | Valid Loss 0.001308 | Valid MAE 0.025295\n",
      " -> Đã lưu model tốt nhất.\n",
      "Epoch 11 | Train Loss 0.001405 | Valid Loss 0.001254 | Valid MAE 0.024994\n",
      " -> Đã lưu model tốt nhất.\n",
      "Epoch 12 | Train Loss 0.001350 | Valid Loss 0.001198 | Valid MAE 0.024272\n",
      " -> Đã lưu model tốt nhất.\n",
      "Epoch 13 | Train Loss 0.001277 | Valid Loss 0.001146 | Valid MAE 0.024100\n",
      " -> Đã lưu model tốt nhất.\n",
      "Epoch 14 | Train Loss 0.001234 | Valid Loss 0.001069 | Valid MAE 0.022868\n",
      " -> Đã lưu model tốt nhất.\n",
      "Epoch 15 | Train Loss 0.001166 | Valid Loss 0.001012 | Valid MAE 0.022237\n",
      " -> Đã lưu model tốt nhất.\n",
      "Epoch 16 | Train Loss 0.001126 | Valid Loss 0.001022 | Valid MAE 0.022805\n",
      "Epoch 17 | Train Loss 0.001105 | Valid Loss 0.000952 | Valid MAE 0.021475\n",
      " -> Đã lưu model tốt nhất.\n",
      "Epoch 18 | Train Loss 0.001062 | Valid Loss 0.000915 | Valid MAE 0.021111\n",
      " -> Đã lưu model tốt nhất.\n",
      "Epoch 19 | Train Loss 0.000998 | Valid Loss 0.000912 | Valid MAE 0.020939\n",
      " -> Đã lưu model tốt nhất.\n",
      "Epoch 20 | Train Loss 0.001004 | Valid Loss 0.000855 | Valid MAE 0.020382\n",
      " -> Đã lưu model tốt nhất.\n",
      "Epoch 21 | Train Loss 0.000969 | Valid Loss 0.000840 | Valid MAE 0.020035\n",
      " -> Đã lưu model tốt nhất.\n",
      "Epoch 22 | Train Loss 0.000946 | Valid Loss 0.000846 | Valid MAE 0.020325\n",
      "Epoch 23 | Train Loss 0.000927 | Valid Loss 0.000835 | Valid MAE 0.020218\n",
      " -> Đã lưu model tốt nhất.\n",
      "Epoch 24 | Train Loss 0.000911 | Valid Loss 0.000798 | Valid MAE 0.019452\n",
      " -> Đã lưu model tốt nhất.\n",
      "Epoch 25 | Train Loss 0.000889 | Valid Loss 0.000871 | Valid MAE 0.020679\n",
      "Epoch 26 | Train Loss 0.000886 | Valid Loss 0.000809 | Valid MAE 0.020056\n",
      "Epoch 27 | Train Loss 0.000860 | Valid Loss 0.000771 | Valid MAE 0.019288\n",
      " -> Đã lưu model tốt nhất.\n",
      "Epoch 28 | Train Loss 0.000884 | Valid Loss 0.000779 | Valid MAE 0.019534\n",
      "Epoch 29 | Train Loss 0.000873 | Valid Loss 0.000794 | Valid MAE 0.019715\n",
      "Epoch 30 | Train Loss 0.000860 | Valid Loss 0.000769 | Valid MAE 0.019544\n",
      " -> Đã lưu model tốt nhất.\n",
      "Epoch 31 | Train Loss 0.000856 | Valid Loss 0.000757 | Valid MAE 0.019081\n",
      " -> Đã lưu model tốt nhất.\n",
      "Epoch 32 | Train Loss 0.000855 | Valid Loss 0.000772 | Valid MAE 0.019495\n",
      "Epoch 33 | Train Loss 0.000831 | Valid Loss 0.000798 | Valid MAE 0.019798\n",
      "Epoch 34 | Train Loss 0.000820 | Valid Loss 0.000773 | Valid MAE 0.019569\n",
      "Epoch 35 | Train Loss 0.000824 | Valid Loss 0.000768 | Valid MAE 0.019591\n",
      "Epoch 36 | Train Loss 0.000808 | Valid Loss 0.000759 | Valid MAE 0.019301\n",
      "Epoch 37 | Train Loss 0.000806 | Valid Loss 0.000779 | Valid MAE 0.019814\n",
      "Epoch 38 | Train Loss 0.000803 | Valid Loss 0.000740 | Valid MAE 0.018986\n",
      " -> Đã lưu model tốt nhất.\n",
      "Epoch 39 | Train Loss 0.000794 | Valid Loss 0.000740 | Valid MAE 0.018807\n",
      " -> Đã lưu model tốt nhất.\n",
      "Epoch 40 | Train Loss 0.000792 | Valid Loss 0.000725 | Valid MAE 0.018661\n",
      " -> Đã lưu model tốt nhất.\n",
      "\n",
      "Đánh giá trên tập test...\n",
      "[KẾT QUẢ TEST] MSE: 0.000787 | MAE: 0.019388\n"
     ]
    }
   ]
  }
 ]
}
