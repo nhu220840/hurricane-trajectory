{
 "cells": [
  {
   "metadata": {},
   "cell_type": "code",
   "outputs": [],
   "execution_count": null,
   "source": [
    "import pandas as pd\n",
    "from ydata_profiling import ProfileReport\n",
    "from pathlib import Path\n",
    "\n",
    "# Giả sử notebook này nằm trong thư mục notebooks\n",
    "# Đường dẫn tương đối đến file dữ liệu thô\n",
    "RAW_DATA_PATH = Path(\"../data/raw/ibtracs_track_ml.csv\")\n",
    "\n",
    "data = pd.read_csv(RAW_DATA_PATH)\n",
    "print(data.info())\n",
    "data.head()"
   ],
   "id": "b3fd707d111578a4"
  },
  {
   "metadata": {},
   "cell_type": "code",
   "outputs": [],
   "execution_count": null,
   "source": [
    "# Tạo báo cáo profile để hiểu sâu hơn về dữ liệu\n",
    "# Cảnh báo: Có thể mất vài phút nếu dữ liệu lớn\n",
    "profile = ProfileReport(data, title=\"Báo cáo Phân tích Dữ liệu Bão\")\n",
    "\n",
    "# Hiển thị báo cáo ngay trong notebook\n",
    "profile.to_widgets()\n",
    "\n",
    "# Hoặc lưu ra file HTML\n",
    "# profile.to_file(\"hurricane_data_report.html\")"
   ],
   "id": "e6ce7f09c7bb2deb"
  }
 ],
 "metadata": {},
 "nbformat": 5,
 "nbformat_minor": 9
}
